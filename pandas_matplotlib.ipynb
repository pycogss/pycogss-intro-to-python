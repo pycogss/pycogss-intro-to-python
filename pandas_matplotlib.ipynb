{
 "cells": [
  {
   "cell_type": "markdown",
   "metadata": {},
   "source": []
  },
  {
   "cell_type": "markdown",
   "metadata": {},
   "source": [
    "# `Pandas`"
   ]
  },
  {
   "cell_type": "markdown",
   "metadata": {},
   "source": [
    "I am going to show you a great way to use `pandas` with some weather data. If you feel lost with the following examples or just want more basics, check out the [\"Ten minutes to Pandas\"](https://pandas.pydata.org/docs/user_guide/10min.html) guide from the pandas docs. "
   ]
  },
  {
   "cell_type": "code",
   "execution_count": null,
   "metadata": {},
   "outputs": [],
   "source": [
    "import pandas as pd "
   ]
  },
  {
   "cell_type": "code",
   "execution_count": null,
   "metadata": {},
   "outputs": [],
   "source": [
    "# As long as this .csv file is in the \"data\" directory,\n",
    "# we can oad temperature data from a CSV file\n",
    "weather_data = pd.read_csv('data/williamsburg_meteo.csv')\n",
    "\n",
    "# Peek at the data and particularly the column names\n",
    "weather_data.head()"
   ]
  },
  {
   "cell_type": "markdown",
   "metadata": {},
   "source": [
    "We can create new columns and fill them with a single value or perform an opreation on a column:"
   ]
  },
  {
   "cell_type": "code",
   "execution_count": null,
   "metadata": {},
   "outputs": [],
   "source": [
    "# You can make any column and fill it with anything you want\n",
    "weather_data['QC'] = 'good' # a pretend \"quality control column\"\n",
    "\n",
    "# You can look at data in one column and make a new column with slightly different formatting\n",
    "weather_data['datetime'] = pd.to_datetime(weather_data['DATE']) # the pd.to_datetime() just reads the dates as a specific type of data that plots well for time series\n",
    "\n",
    "# You can do a calculation on a column! \n",
    "weather_data['PRCP_cm'] = weather_data['PRCP'] * 2.54 # convert inches to centimeters\n",
    "\n",
    "weather_data.head()"
   ]
  },
  {
   "cell_type": "markdown",
   "metadata": {},
   "source": [
    "Precip and temperature data were originally given in imperial units. Using the example above where I converted inches to centimeters (`weather_data['PRCP']` to `weather_data['PRCP_cm']`), create new columns where temperature values are given in the metric system (Celcius)."
   ]
  },
  {
   "cell_type": "code",
   "execution_count": null,
   "metadata": {},
   "outputs": [],
   "source": [
    "# your code here"
   ]
  },
  {
   "cell_type": "markdown",
   "metadata": {},
   "source": [
    "Now, let's make some plots:"
   ]
  },
  {
   "cell_type": "code",
   "execution_count": null,
   "metadata": {},
   "outputs": [],
   "source": [
    "# For ease, we will define separate variables as the columns in our DataFrame. \n",
    "# This way you can type \"date\" instead of the DataFrame and column name\n",
    "\n",
    "date = weather_data['datetime']\n",
    "\n",
    "temperature = weather_data['TOBS'] "
   ]
  },
  {
   "cell_type": "markdown",
   "metadata": {},
   "source": [
    "# `matplotlib`"
   ]
  },
  {
   "cell_type": "markdown",
   "metadata": {},
   "source": [
    "[`matplotlib`](https://matplotlib.org/stable/users/index.html) is a plotting package that helps you visualize your data. If you have worked with Matlab, this will feel familiar. "
   ]
  },
  {
   "cell_type": "code",
   "execution_count": null,
   "metadata": {},
   "outputs": [],
   "source": [
    "import matplotlib.pyplot as plt"
   ]
  },
  {
   "cell_type": "markdown",
   "metadata": {},
   "source": [
    "We can now use the `plt` module we loaded to make a simple plot. You can always [read the docs](https://matplotlib.org/stable/api/_as_gen/matplotlib.pyplot.plot.html) to understand the arguments that plotting functions take. (And you *find* the docs by searching \"matplotlib [function]\")"
   ]
  },
  {
   "cell_type": "code",
   "execution_count": null,
   "metadata": {},
   "outputs": [],
   "source": [
    "plt.plot(date, temperature)"
   ]
  },
  {
   "cell_type": "markdown",
   "metadata": {},
   "source": [
    "## Your turn!"
   ]
  },
  {
   "cell_type": "markdown",
   "metadata": {},
   "source": [
    "Create a [scatter](https://matplotlib.org/stable/api/_as_gen/matplotlib.pyplot.scatter.html) plot of temperature over time with points colored by precipitation. Most plotting functions allow you to specify a `c` axis that colors certain datapoints to be a third data axis for data-rich plots. When you do that you'll want to add a [colorbar](https://matplotlib.org/stable/api/_as_gen/matplotlib.pyplot.colorbar.html) so your viewers know what they're looking at. \n",
    "\n",
    "I'll get you started:"
   ]
  },
  {
   "cell_type": "code",
   "execution_count": null,
   "metadata": {},
   "outputs": [],
   "source": [
    "# Specify the \"c\" keyword to add precipitation data as colors!\n",
    "plt.scatter(???, ???, c=???)\n",
    "\n",
    "\n",
    "# Call the \"colorbar()\" class to add a colorbar!\n",
    "plt.colorbar(label=\"precipitation\")\n",
    "\n",
    "# Set the title of the plot\n",
    "plt.title('??')\n",
    "\n",
    "# Label the x-axis\n",
    "plt.xlabel('??')\n",
    "\n",
    "# Label the y-axis\n",
    "plt.ylabel('???')"
   ]
  },
  {
   "cell_type": "markdown",
   "metadata": {},
   "source": [
    "## The nuances of plot making"
   ]
  },
  {
   "cell_type": "markdown",
   "metadata": {},
   "source": [
    "In Matplotlib, both plt.figure() and fig, ax = plt.subplots() are used to create figures for object-oriented plotting, but they have different use cases and behaviors:\n",
    "\n",
    "`plt.figure()`:\n",
    "\n",
    "- `plt.figure()` is used to create a single figure object, and it returns a reference to that figure. This figure can contain one or more subplots (Axes).\n",
    "\n",
    "- When you create plots using `plt.plot()`, `plt.scatter()`, etc., without explicitly specifying an Axes object, Matplotlib will automatically create an Axes within the current figure.\n",
    "\n",
    "- It is useful when you want to create a single plot without multiple subplots, and you are not concerned about creating multiple axes explicitly.\n",
    "\n",
    "Here, we will create a `figure` object"
   ]
  },
  {
   "cell_type": "code",
   "execution_count": null,
   "metadata": {},
   "outputs": [],
   "source": [
    "# Create a figure with a specific size (10x6 inches)\n",
    "plt.figure(figsize=(10, 6))\n",
    "\n",
    "# Create a line plot using time on the x-axis and temperature on the y-axis\n",
    "# Customize the plot with blue color, circular markers, solid lines, and marker size\n",
    "plt.plot(date, temperature, color='blue', marker='o', linestyle='-', markersize=4)\n",
    "\n",
    "# Set the title of the plot\n",
    "plt.title('Temperature Over Time')\n",
    "\n",
    "# Label the x-axis\n",
    "plt.xlabel('Time')\n",
    "\n",
    "# Label the y-axis\n",
    "plt.ylabel('Temperature (°C)')"
   ]
  },
  {
   "cell_type": "markdown",
   "metadata": {},
   "source": [
    "Note we can do things like [set the limits of axes](https://matplotlib.org/stable/api/_as_gen/matplotlib.pyplot.ylim.html):"
   ]
  },
  {
   "cell_type": "code",
   "execution_count": null,
   "metadata": {},
   "outputs": [],
   "source": [
    "# Create a figure with a specific size (10x6 inches)\n",
    "plt.figure(figsize=(10, 6))\n",
    "\n",
    "# Create a line plot using time on the x-axis and temperature on the y-axis\n",
    "# Customize the plot with blue color, circular markers, solid lines, and marker size\n",
    "plt.plot(date, temperature, color='blue', marker='o', linestyle='-', markersize=4)\n",
    "\n",
    "# Set the title of the plot\n",
    "plt.title('Temperature Over Time')\n",
    "\n",
    "# Label the x-axis\n",
    "plt.xlabel('Time')\n",
    "\n",
    "# Set axis limits from 0 to 100\n",
    "plt.ylim(0, 100)\n",
    "\n",
    "# Label the y-axis\n",
    "plt.ylabel('Temperature (°C)')"
   ]
  },
  {
   "cell_type": "markdown",
   "metadata": {},
   "source": [
    "In contrast, we can use `fig, ax = plt.subplots()`:\n",
    "\n",
    "- Multiple Subplots: `plt.subplots()` is used to create a figure (Fig) and one or more subplots (Axes) within that figure. It returns both the figure and an array of Axes objects.\n",
    "\n",
    "- Explicit Axes: You explicitly create and specify the Axes objects when using `fig, ax = plt.subplots()`. This allows you to have more control over the placement and arrangement of subplots.\n",
    "\n",
    "- Usage: It is useful when you need to create multiple subplots within a single figure, such as creating a grid of plots.\n",
    "\n",
    "A main difference is that the syntax for customizing `ax` objects will often include \"`set_`\" as in `set_xlabel()` as opposed to just `plt.xlabel()`"
   ]
  },
  {
   "cell_type": "code",
   "execution_count": null,
   "metadata": {},
   "outputs": [],
   "source": [
    "# Create a fig and an ax object with two elements\n",
    "fig, ax = plt.subplots(1, 2, figsize=(12, 4))\n",
    "\n",
    "# Plot something on the ax object\n",
    "ax[0].plot(date, temperature, color='red', marker='o', linestyle='-', markersize=4)\n",
    "\n",
    "# Set the title of the axis\n",
    "ax[0].set_title('Temperature Over Time')\n",
    "\n",
    "# Label the x-axis\n",
    "ax[0].set_xlabel('Time')\n",
    "\n",
    "# Label the y-axis\n",
    "ax[0].set_ylabel('Temperature (°C)')\n",
    "\n",
    "# Plot something on the ax object\n",
    "ax[1].plot(date, weather_data['PRCP'], color='blue', marker='o', linestyle='-', markersize=4)\n",
    "\n",
    "# Set the title of the axis\n",
    "ax[1].set_title('Precipitation Over Time')\n",
    "\n",
    "# Label the x-axis\n",
    "ax[1].set_xlabel('Time')\n",
    "\n",
    "# Label the y-axis\n",
    "ax[1].set_ylabel('Precipitation (in)')"
   ]
  },
  {
   "cell_type": "markdown",
   "metadata": {},
   "source": [
    "But you don't need to create multiple plots if you don't want to:"
   ]
  },
  {
   "cell_type": "code",
   "execution_count": null,
   "metadata": {},
   "outputs": [],
   "source": [
    "# Create a fig and ax object\n",
    "fig, ax = plt.subplots(figsize=(10, 6))\n",
    "\n",
    "# Plot something on the ax object\n",
    "ax.plot(date, temperature, color='blue', marker='o', linestyle='-', markersize=4)\n",
    "\n",
    "# Set the title of the axis\n",
    "ax.set_title('Temperature Over Time')\n",
    "\n",
    "# Label the x-axis\n",
    "ax.set_xlabel('Time')\n",
    "\n",
    "# Label the y-axis\n",
    "ax.set_ylabel('Temperature (°C)')\n"
   ]
  },
  {
   "cell_type": "markdown",
   "metadata": {},
   "source": [
    "## Plot with `pandas`"
   ]
  },
  {
   "cell_type": "markdown",
   "metadata": {},
   "source": [
    "`pandas` actually has its own [plotting functions](https://pandas.pydata.org/docs/reference/api/pandas.DataFrame.plot.html) for quick visualization of data.\n",
    "\n",
    "You can see below that the syntax is `[name of the data frame].plot.[type of plot]` for something like a [scatterplot](https://pandas.pydata.org/docs/reference/api/pandas.DataFrame.plot.scatter.html)."
   ]
  },
  {
   "cell_type": "code",
   "execution_count": null,
   "metadata": {},
   "outputs": [],
   "source": [
    "# Use the built-in plot() function to create a line plot\n",
    "weather_data.plot.scatter(x='datetime', y='TMAX', c='TMIN', title='Example Plot', marker='o', cmap='viridis')"
   ]
  },
  {
   "cell_type": "markdown",
   "metadata": {},
   "source": [
    "Whew! Congrats, you've made it to the end of the introduction to Python, data, and plotting!!\n",
    "\n",
    "You can experiment with plotting in the cells above. If the above material was a bit of a stretch for you and you need to digest it a little, take the rest of the time to read over the content and convince yourself you know what goes on when you call certain lines of code. "
   ]
  }
 ],
 "metadata": {
  "kernelspec": {
   "display_name": "test",
   "language": "python",
   "name": "python3"
  },
  "language_info": {
   "codemirror_mode": {
    "name": "ipython",
    "version": 3
   },
   "file_extension": ".py",
   "mimetype": "text/x-python",
   "name": "python",
   "nbconvert_exporter": "python",
   "pygments_lexer": "ipython3",
   "version": "3.9.18"
  }
 },
 "nbformat": 4,
 "nbformat_minor": 2
}
